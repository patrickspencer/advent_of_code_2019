{
 "cells": [
  {
   "cell_type": "code",
   "execution_count": 170,
   "metadata": {},
   "outputs": [],
   "source": [
    "import os\n",
    "\n",
    "#fdir = os.path.dirname(os.path.abspath(__file__))\n",
    "#filename = os.path.join(fdir, 'day3_input.txt')\n",
    "with open('day3_input.txt', 'r') as f:\n",
    "    input = f.read().split('\\n')\n",
    "    \n",
    "line1_commands = input[0].split(',')\n",
    "line2_commands = input[1].split(',')"
   ]
  },
  {
   "cell_type": "code",
   "execution_count": 146,
   "metadata": {},
   "outputs": [],
   "source": [
    "# break each command into a tuple direction and a number of steps like ('U', 25)\n",
    "# we define a 'command' as a string consisting of a direction and a number of steps like U25 means 'up 25 steps'\n",
    "a = [(l[0], int(l[1:])) for l in input[0].split(',')]\n",
    "b = [(l[0], int(l[1:])) for l in input[1].split(',')]"
   ]
  },
  {
   "cell_type": "code",
   "execution_count": 160,
   "metadata": {},
   "outputs": [],
   "source": [
    "def pairwise_add(tuple1, tuple2):\n",
    "    return tuple([sum(t) for t in zip(tuple1, tuple2)])"
   ]
  },
  {
   "cell_type": "code",
   "execution_count": 161,
   "metadata": {},
   "outputs": [
    {
     "data": {
      "text/plain": [
       "(3, 4)"
      ]
     },
     "execution_count": 161,
     "metadata": {},
     "output_type": "execute_result"
    }
   ],
   "source": [
    "pairwise_add((1, 1), (2, 3))"
   ]
  },
  {
   "cell_type": "code",
   "execution_count": 171,
   "metadata": {},
   "outputs": [],
   "source": [
    "def make_points(commands):\n",
    "    points = []\n",
    "    last = [0,0]\n",
    "    directions = {'U': (0,1),\n",
    "                  'R': (1,0),\n",
    "                  'L': (-1,0),\n",
    "                  'D': (0,-1)}\n",
    "    for command in commands:\n",
    "        direction = d[command[0]]\n",
    "        steps = int(command[1:])\n",
    "        for _ in range(steps):\n",
    "            new = pairwise_add(last, direction)\n",
    "            points.append(new)\n",
    "            last = new\n",
    "    return points"
   ]
  },
  {
   "cell_type": "code",
   "execution_count": 167,
   "metadata": {},
   "outputs": [],
   "source": [
    "apoints = make_points(line1_commands)\n",
    "bpoints = make_points(line2_commands)"
   ]
  },
  {
   "cell_type": "code",
   "execution_count": 130,
   "metadata": {},
   "outputs": [],
   "source": [
    "intersection_points = list(set(apoints).intersection(set(bpoints)))"
   ]
  },
  {
   "cell_type": "code",
   "execution_count": 172,
   "metadata": {},
   "outputs": [
    {
     "data": {
      "text/plain": [
       "(-39, -170)"
      ]
     },
     "execution_count": 172,
     "metadata": {},
     "output_type": "execute_result"
    }
   ],
   "source": [
    "min(intersection_points, key=lambda x: abs(x[0]) + abs(x[1]))"
   ]
  },
  {
   "cell_type": "code",
   "execution_count": 173,
   "metadata": {},
   "outputs": [
    {
     "data": {
      "text/plain": [
       "121354"
      ]
     },
     "execution_count": 173,
     "metadata": {},
     "output_type": "execute_result"
    }
   ],
   "source": [
    "apoints.index((-39, -170)) + bpoints.index((-39, -170))"
   ]
  },
  {
   "cell_type": "code",
   "execution_count": 138,
   "metadata": {},
   "outputs": [
    {
     "data": {
      "text/plain": [
       "153469"
      ]
     },
     "execution_count": 138,
     "metadata": {},
     "output_type": "execute_result"
    }
   ],
   "source": [
    "len(apoints)"
   ]
  }
 ],
 "metadata": {
  "kernelspec": {
   "display_name": "Python 3",
   "language": "python",
   "name": "python3"
  },
  "language_info": {
   "codemirror_mode": {
    "name": "ipython",
    "version": 3
   },
   "file_extension": ".py",
   "mimetype": "text/x-python",
   "name": "python",
   "nbconvert_exporter": "python",
   "pygments_lexer": "ipython3",
   "version": "3.7.0"
  }
 },
 "nbformat": 4,
 "nbformat_minor": 2
}
